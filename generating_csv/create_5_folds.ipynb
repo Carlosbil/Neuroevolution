{
 "cells": [
  {
   "cell_type": "markdown",
   "metadata": {},
   "source": [
    "## 5 folds cross-validation: 60/% train - 20/% validation - 20%test"
   ]
  },
  {
   "cell_type": "code",
   "execution_count": 3,
   "metadata": {},
   "outputs": [],
   "source": [
    "import os\n",
    "import numpy as np\n",
    "import shutil\n",
    "from sklearn.model_selection import StratifiedKFold, train_test_split\n",
    "\n",
    "def prepare_and_save_folds(train_dir, test_dir, folds_dir, id, n_splits_outer=5):\n",
    "\n",
    "    if os.path.exists(folds_dir):\n",
    "        shutil.rmtree(folds_dir)\n",
    "        print(f\"Carpeta '{folds_dir}' eliminada.\")\n",
    "    os.makedirs(folds_dir)\n",
    "    print(f\"Carpeta '{folds_dir}' creada.\")\n",
    "\n",
    "    train_files = [f for f in os.listdir(train_dir) if f.endswith('_X.npy')]\n",
    "    labels = [0 if 'AVPEPUDEAC' in f else 1 for f in train_files]\n",
    "\n",
    "    test_files = [f for f in os.listdir(test_dir) if f.endswith('_X.npy')]\n",
    "    test_labels = [0 if 'AVPEPUDEAC' in f else 1 for f in test_files]\n",
    "    print(train_files==test_files)\n",
    "\n",
    "    skf_outer = StratifiedKFold(n_splits=n_splits_outer, shuffle=True, random_state=42)\n",
    "\n",
    "    for fold_idx, (train_val_index, test_index) in enumerate(skf_outer.split(train_files, labels)):\n",
    "        # Print the test files for the current fold\n",
    "        print(f\"Fold {fold_idx + 1} Test Files:\")\n",
    "        for i in test_index:\n",
    "            print(f\"File: {test_files[i]}, Label: {test_labels[i]}\")\n",
    "\n",
    "        # Load test data\n",
    "        test_data = [np.load(os.path.join(test_dir, test_files[i])) for i in test_index]\n",
    "        test_data = np.vstack(test_data)\n",
    "        test_labels_fold = np.array([test_labels[i] for i in test_index])\n",
    "        test_labels_fold = np.repeat(test_labels_fold, test_data.shape[0] // len(test_labels_fold))\n",
    "        test_data, test_labels_fold = shuffle_data(test_data, test_labels_fold)  # Shuffle test data\n",
    "\n",
    "\n",
    "        # Assign data to train and validation using the inner split\n",
    "        train_index, val_index = train_test_split(train_val_index, test_size=20, stratify=[labels[i] for i in train_val_index], shuffle=True, random_state=42)\n",
    "\n",
    "        # Print the train files for the current fold\n",
    "        print(f\"Fold {fold_idx + 1} Train Files:\")\n",
    "        for i in train_index:\n",
    "            print(f\"File: {train_files[i]}, Label: {labels[i]}\")\n",
    "\n",
    "        # Print the validation files for the current fold\n",
    "        print(f\"Fold {fold_idx + 1} Validation Files:\")\n",
    "        for i in val_index:\n",
    "            print(f\"File: {train_files[i]}, Label: {labels[i]}\")\n",
    "\n",
    "        train_data = [np.load(os.path.join(train_dir, train_files[i])) for i in train_index]\n",
    "        train_data = np.vstack(train_data)\n",
    "        train_labels = np.array([labels[i] for i in train_index])\n",
    "        train_labels = np.repeat(train_labels, train_data.shape[0] // len(train_labels))\n",
    "        train_data, train_labels = shuffle_data(train_data, train_labels)  # Shuffle train data\n",
    "\n",
    "        val_data = [np.load(os.path.join(train_dir, train_files[i])) for i in val_index]\n",
    "        val_data = np.vstack(val_data)\n",
    "        val_labels = np.array([labels[i] for i in val_index])\n",
    "        val_labels = np.repeat(val_labels, val_data.shape[0] // len(val_labels))\n",
    "        val_data, val_labels = shuffle_data(val_data, val_labels)\n",
    "\n",
    "\n",
    "        # Save the data to .npy files\n",
    "        np.save(os.path.join(folds_dir, f'X_train_{id}_fold_{fold_idx+1}.npy'), train_data)\n",
    "        np.save(os.path.join(folds_dir, f'y_train_{id}_fold_{fold_idx+1}.npy'), train_labels)\n",
    "        np.save(os.path.join(folds_dir, f'X_val_{id}_fold_{fold_idx+1}.npy'), val_data)\n",
    "        np.save(os.path.join(folds_dir, f'y_val_{id}_fold_{fold_idx+1}.npy'), val_labels)\n",
    "        np.save(os.path.join(folds_dir, f'X_test_{id}_fold_{fold_idx+1}.npy'), test_data)\n",
    "        np.save(os.path.join(folds_dir, f'y_test_{id}_fold_{fold_idx+1}.npy'), test_labels_fold)\n",
    "\n",
    "        print(train_index, val_index, test_index)\n",
    "\n",
    "    print(\"Archivos .npy guardados para cada fold en la carpeta de folds.\")\n",
    "\n",
    "def shuffle_data(data, labels):\n",
    "    shuffle_indices = np.random.permutation(len(labels))\n",
    "    data = data[shuffle_indices]\n",
    "    labels = labels[shuffle_indices]\n",
    "    return data, labels"
   ]
  },
  {
   "cell_type": "code",
   "execution_count": 4,
   "metadata": {},
   "outputs": [
    {
     "name": "stdout",
     "output_type": "stream",
     "text": [
      "Carpeta '/Users/carlos/Downloads/Neuroevolution/data/sets/folds_5/files_real_N' eliminada.\n",
      "Carpeta '/Users/carlos/Downloads/Neuroevolution/data/sets/folds_5/files_real_N' creada.\n"
     ]
    },
    {
     "ename": "FileNotFoundError",
     "evalue": "[Errno 2] No such file or directory: '/Users/carlos/Downloads/Neuroevolution/data/sets/test_together_N'",
     "output_type": "error",
     "traceback": [
      "\u001b[0;31m---------------------------------------------------------------------------\u001b[0m",
      "\u001b[0;31mFileNotFoundError\u001b[0m                         Traceback (most recent call last)",
      "Cell \u001b[0;32mIn[4], line 1\u001b[0m\n\u001b[0;32m----> 1\u001b[0m \u001b[43mprepare_and_save_folds\u001b[49m\u001b[43m(\u001b[49m\n\u001b[1;32m      2\u001b[0m \u001b[43m    \u001b[49m\u001b[43mtrain_dir\u001b[49m\u001b[38;5;241;43m=\u001b[39;49m\u001b[38;5;124;43m'\u001b[39;49m\u001b[38;5;124;43m/Users/carlos/Downloads/Neuroevolution/data/sets/test_together_N\u001b[39;49m\u001b[38;5;124;43m'\u001b[39;49m\u001b[43m,\u001b[49m\n\u001b[1;32m      3\u001b[0m \u001b[43m    \u001b[49m\u001b[43mtest_dir\u001b[49m\u001b[38;5;241;43m=\u001b[39;49m\u001b[38;5;124;43m'\u001b[39;49m\u001b[38;5;124;43m/Users/carlos/Downloads/Neuroevolution/data/sets/test_together_N\u001b[39;49m\u001b[38;5;124;43m'\u001b[39;49m\u001b[43m,\u001b[49m\n\u001b[1;32m      4\u001b[0m \u001b[43m    \u001b[49m\u001b[43mfolds_dir\u001b[49m\u001b[38;5;241;43m=\u001b[39;49m\u001b[38;5;124;43m'\u001b[39;49m\u001b[38;5;124;43m/Users/carlos/Downloads/Neuroevolution/data/sets/folds_5/files_real_N\u001b[39;49m\u001b[38;5;124;43m'\u001b[39;49m\u001b[43m,\u001b[49m\n\u001b[1;32m      5\u001b[0m \u001b[43m    \u001b[49m\u001b[38;5;28;43mid\u001b[39;49m\u001b[38;5;241;43m=\u001b[39;49m\u001b[38;5;124;43m'\u001b[39;49m\u001b[38;5;124;43mreal_N\u001b[39;49m\u001b[38;5;124;43m'\u001b[39;49m\n\u001b[1;32m      6\u001b[0m \u001b[43m)\u001b[49m\n",
      "Cell \u001b[0;32mIn[3], line 14\u001b[0m, in \u001b[0;36mprepare_and_save_folds\u001b[0;34m(train_dir, test_dir, folds_dir, id, n_splits_outer)\u001b[0m\n\u001b[1;32m     11\u001b[0m os\u001b[38;5;241m.\u001b[39mmakedirs(folds_dir)\n\u001b[1;32m     12\u001b[0m \u001b[38;5;28mprint\u001b[39m(\u001b[38;5;124mf\u001b[39m\u001b[38;5;124m\"\u001b[39m\u001b[38;5;124mCarpeta \u001b[39m\u001b[38;5;124m'\u001b[39m\u001b[38;5;132;01m{\u001b[39;00mfolds_dir\u001b[38;5;132;01m}\u001b[39;00m\u001b[38;5;124m'\u001b[39m\u001b[38;5;124m creada.\u001b[39m\u001b[38;5;124m\"\u001b[39m)\n\u001b[0;32m---> 14\u001b[0m train_files \u001b[38;5;241m=\u001b[39m [f \u001b[38;5;28;01mfor\u001b[39;00m f \u001b[38;5;129;01min\u001b[39;00m \u001b[43mos\u001b[49m\u001b[38;5;241;43m.\u001b[39;49m\u001b[43mlistdir\u001b[49m\u001b[43m(\u001b[49m\u001b[43mtrain_dir\u001b[49m\u001b[43m)\u001b[49m \u001b[38;5;28;01mif\u001b[39;00m f\u001b[38;5;241m.\u001b[39mendswith(\u001b[38;5;124m'\u001b[39m\u001b[38;5;124m_X.npy\u001b[39m\u001b[38;5;124m'\u001b[39m)]\n\u001b[1;32m     15\u001b[0m labels \u001b[38;5;241m=\u001b[39m [\u001b[38;5;241m0\u001b[39m \u001b[38;5;28;01mif\u001b[39;00m \u001b[38;5;124m'\u001b[39m\u001b[38;5;124mAVPEPUDEAC\u001b[39m\u001b[38;5;124m'\u001b[39m \u001b[38;5;129;01min\u001b[39;00m f \u001b[38;5;28;01melse\u001b[39;00m \u001b[38;5;241m1\u001b[39m \u001b[38;5;28;01mfor\u001b[39;00m f \u001b[38;5;129;01min\u001b[39;00m train_files]\n\u001b[1;32m     17\u001b[0m test_files \u001b[38;5;241m=\u001b[39m [f \u001b[38;5;28;01mfor\u001b[39;00m f \u001b[38;5;129;01min\u001b[39;00m os\u001b[38;5;241m.\u001b[39mlistdir(test_dir) \u001b[38;5;28;01mif\u001b[39;00m f\u001b[38;5;241m.\u001b[39mendswith(\u001b[38;5;124m'\u001b[39m\u001b[38;5;124m_X.npy\u001b[39m\u001b[38;5;124m'\u001b[39m)]\n",
      "\u001b[0;31mFileNotFoundError\u001b[0m: [Errno 2] No such file or directory: '/Users/carlos/Downloads/Neuroevolution/data/sets/test_together_N'"
     ]
    }
   ],
   "source": [
    "prepare_and_save_folds(\n",
    "    train_dir='/Users/carlos/Downloads/Neuroevolution/data/sets/test_together_N',\n",
    "    test_dir='/Users/carlos/Downloads/Neuroevolution/data/sets/test_together_N',\n",
    "    folds_dir='/Users/carlos/Downloads/Neuroevolution/data/sets/folds_5/files_real_N',\n",
    "    id='real_N'\n",
    ")"
   ]
  },
  {
   "cell_type": "code",
   "execution_count": null,
   "metadata": {},
   "outputs": [],
   "source": [
    "prepare_and_save_folds(\n",
    "    train_dir='/Users/carlos/Downloads/Neuroevolution/data/sets/generated_together_train_40_1e5_N',\n",
    "    test_dir='/Users/carlos/Downloads/Neuroevolution/data/sets/test_together_N',\n",
    "    folds_dir='/Users/carlos/Downloads/Neuroevolution/data/sets/folds_5/files_real_40_1e5_N',\n",
    "    id='40_1e5_N'\n",
    ")"
   ]
  },
  {
   "cell_type": "code",
   "execution_count": null,
   "metadata": {},
   "outputs": [],
   "source": [
    "prepare_and_save_folds(\n",
    "    train_dir='/Users/carlos/Downloads/Neuroevolution/data/sets/generated_together_train_40_1e5_N',\n",
    "    test_dir='/Users/carlos/Downloads/Neuroevolution/data/sets/generated_together_train_40_1e5_N',\n",
    "    folds_dir='/Users/carlos/Downloads/Neuroevolution/data/sets/folds_5/files_syn_40_1e5_N',\n",
    "    id='40_1e5_N'\n",
    ")"
   ]
  },
  {
   "cell_type": "code",
   "execution_count": null,
   "metadata": {},
   "outputs": [],
   "source": [
    "prepare_and_save_folds(\n",
    "    train_dir='/Users/carlos/Downloads/Neuroevolution/data/sets/generated_together_train_40_1e5_N',\n",
    "    test_dir='/Users/carlos/Downloads/Neuroevolution/data/sets/test_together_10ms_N',\n",
    "    folds_dir='/Users/carlos/Downloads/Neuroevolution/data/sets/folds_5/files_syn_10ms_N',\n",
    "    id='40_1e5_N'\n",
    ")"
   ]
  },
  {
   "cell_type": "code",
   "execution_count": null,
   "metadata": {},
   "outputs": [],
   "source": [
    "prepare_and_save_folds(\n",
    "    train_dir='/Users/carlos/Downloads/Neuroevolution/data/sets/test_together_10ms_N',\n",
    "    test_dir='/Users/carlos/Downloads/Neuroevolution/data/sets/test_together_10ms_N',\n",
    "    folds_dir='/Users/carlos/Downloads/Neuroevolution/data/sets/folds_5/files_syn_all_10ms_N',\n",
    "    id='40_1e5_N'\n",
    ")"
   ]
  },
  {
   "cell_type": "code",
   "execution_count": null,
   "metadata": {},
   "outputs": [],
   "source": [
    "prepare_and_save_folds(\n",
    "    train_dir='/Users/carlos/Downloads/Neuroevolution/data/sets/generated_together_train_40_1e5_N',\n",
    "    test_dir='/Users/carlos/Downloads/Neuroevolution/data/sets/test_together_syn_1_N',\n",
    "    folds_dir='/Users/carlos/Downloads/Neuroevolution/data/sets/folds_5/files_syn_1_N',\n",
    "    id='40_1e5_N'\n",
    ")"
   ]
  },
  {
   "cell_type": "code",
   "execution_count": null,
   "metadata": {},
   "outputs": [],
   "source": [
    "a = np.load('/Users/carlos/Downloads/Neuroevolution/data/sets/folds_5/files_real_40_1e5_N/X_test_40_1e5_N_fold_2.npy')\n",
    "b = np.load('/Users/carlos/Downloads/Neuroevolution/data/sets/folds_5/files_syn_40_1e5_N/X_test_40_1e5_N_fold_2.npy')\n",
    "c = np.load('/Users/carlos/Downloads/Neuroevolution/data/sets/folds_5/files_syn_10ms_N/X_test_40_1e5_N_fold_2.npy')\n",
    "d = np.load('/Users/carlos/Downloads/Neuroevolution/data/sets/folds_5/files_syn_1_N/X_test_40_1e5_N_fold_2.npy')\n",
    "e = np.load('/Users/carlos/Downloads/Neuroevolution/data/sets/folds_5/files_real_N/X_test_real_N_fold_2.npy')\n"
   ]
  }
 ],
 "metadata": {
  "kernelspec": {
   "display_name": "Python 3",
   "language": "python",
   "name": "python3"
  },
  "language_info": {
   "codemirror_mode": {
    "name": "ipython",
    "version": 3
   },
   "file_extension": ".py",
   "mimetype": "text/x-python",
   "name": "python",
   "nbconvert_exporter": "python",
   "pygments_lexer": "ipython3",
   "version": "3.10.11"
  }
 },
 "nbformat": 4,
 "nbformat_minor": 2
}
